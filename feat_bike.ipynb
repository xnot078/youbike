{
 "cells": [
  {
   "cell_type": "markdown",
   "metadata": {},
   "source": [
    "目標: \n",
    "一個src，\n",
    "- 可以前處理資料:\n",
    "1. 補缺少的日期、hr (不含weekday)\n",
    "\n",
    "- 可以在特定weekday底下，將所有站別分群，分群的邏輯如下:\n",
    "1. 計算特定站別在每個weekday、每個Hr底下的出租量的Pr50，然後計算其三小時的移動平均\n",
    "2. 第1點的移動平均建一個線性回歸，看其租借量的趨勢，得到slope & intersection\n",
    "3. 上述的slope & intersect作為分群的依據\n"
   ]
  },
  {
   "cell_type": "code",
   "execution_count": 57,
   "metadata": {},
   "outputs": [],
   "source": [
    "import pandas as pd\n",
    "import numpy as np\n",
    "from dataclasses import asdict, dataclass, field\n",
    "from typing import Optional, List, Union\n",
    "import tqdm\n",
    "# plot\n",
    "import matplotlib.pyplot as plt\n",
    "import seaborn as sns\n",
    "# model\n",
    "from scipy import stats\n",
    "from sklearn import cluster\n"
   ]
  },
  {
   "cell_type": "code",
   "execution_count": null,
   "metadata": {},
   "outputs": [],
   "source": [
    "RENT_COLS = ['station', 'Generation', 'sno', 'time', 'date', 'Hr', 'rent_count', 'weekday']\n",
    "WEEKDAYS = ['Monday', 'Tuesday', 'Wednesday', 'Thursday', 'Friday', 'Saturday', 'Sunday']\n",
    "data = pd.read_csv('./data/df_Final.csv', usecols=RENT_COLS)\n",
    "data['date'] = pd.to_datetime(data['date'])\n",
    "data_rentCnt = data.pivot_table(\n",
    "    index=['station', 'sno', 'date', 'weekday'],\n",
    "    columns='Hr',\n",
    "    values='rent_count',\n",
    "    aggfunc='sum',\n",
    ").reset_index()"
   ]
  },
  {
   "cell_type": "code",
   "execution_count": 26,
   "metadata": {},
   "outputs": [],
   "source": [
    "class StationHrDes:\n",
    "    COLS_REQ = ['station', 'sno', 'date', 'weekday'] + [i for i in range(24)]\n",
    "    \n",
    "    def __init__(self, df_station: Optional[pd.DataFrame], sno: Optional[int] = None, hr_ma_windows=3):\n",
    "        assert len(col_miss := (set(self.COLS_REQ) - set(df_station.columns))) == 0, f\"columns requirements: 'station', 'sno', 'date', 'weekday', 0,1,2,...,23 (hr); Missing cols: {col_miss}\"\n",
    "        # 計算每個weekday、hr的逐三小時移動平均\n",
    "        self.MA_hr_pr50 = self.fill_miss_days(df_station)\\\n",
    "            .groupby('weekday')\\\n",
    "            .apply(lambda x: self.weekday_hr_ma(x, windows=hr_ma_windows))\n",
    "        #照星期順序排\n",
    "        self.MA_hr_pr50 = self.MA_hr_pr50.loc[[w for w in self.WEEKDAYS if w in self.MA_hr_pr50.index]]\n",
    "\n",
    "        self.lr_des = self.lr_des_perttyFormat(self.MA_hr_pr50.apply(self.scipy_lr, axis=1)).assign(sno=sno)\n",
    "\n",
    "        self.sno = sno\n",
    "\n",
    "    def fill_miss_days(self, df):\n",
    "        \"\"\"\n",
    "        輸入一個df，依據'date'欄位找出缺漏的日期，為該日期的租借量補上nan\n",
    "        \"\"\"\n",
    "        d_min, d_max = df['date'].apply(['min', 'max'])\n",
    "        days = pd.Series(index=pd.date_range(d_min, d_max, freq='d'), dtype=float)\n",
    "        ans = pd.concat([df.set_index('date'), days], axis=1).iloc[:, :-1]\n",
    "        ans.fillna(0, inplace=True)\n",
    "        ans.index.name = 'date'\n",
    "        return ans\n",
    "\n",
    "    def weekday_hr_ma(self, df, windows=3, enough_samples=5):\n",
    "        \"\"\"\n",
    "        輸入只有一個weekday的subset。回傳各小時的出租量的Pr50的近三小時移動平均。\n",
    "        目標是用來判斷是否為高峰。\n",
    "        - 如果某小時的樣本少於enough_samples(default=5)就設為nan\n",
    "        \"\"\"\n",
    "        hr_Pr50 = df[np.arange(24)].quantile(.5)\n",
    "        hr_cnt = (~df[np.arange(24)].isna()).sum()\n",
    "        ans = pd.concat([hr_Pr50.iloc[-2:], hr_Pr50])\\\n",
    "                .rolling(windows)\\\n",
    "                .mean()\\\n",
    "                .iloc[2:] # 0點的移動平均要從10, 11, 12計算\n",
    "        enough_mask = hr_cnt < enough_samples  # 如果樣本少於enough_samples(default=5)就不採用\n",
    "        ans.loc[enough_mask] = 0\n",
    "        ans.index.name = 'weekday'\n",
    "        return ans\n",
    "\n",
    "    def scipy_lr(self, ser, return_line=False):\n",
    "        slope, intersect, rscore, pvalue, serr = stats.linregress(np.arange(len(ser)), ser)\n",
    "        if not return_line:\n",
    "            return slope, intersect\n",
    "        return np.arange(len(ser)) * slope + intersect\n",
    "\n",
    "    def lr_des_perttyFormat(self, lr_des):\n",
    "        return pd.DataFrame([[i[0] for i in lr_des], [i[1] for i in lr_des]], columns=lr_des.index, index=['slope', 'intersect']).T\n"
   ]
  },
  {
   "cell_type": "code",
   "execution_count": 61,
   "metadata": {},
   "outputs": [],
   "source": [
    "@dataclass\n",
    "class StationsLrHolder:\n",
    "    stations_info: List[StationHrDes] = field(default_factory=list)\n",
    "    LR_data: Optional[pd.DataFrame] = None\n",
    "\n",
    "    def add_one_station(self, des: Union[pd.DataFrame, StationHrDes], sno: Optional[int] = None) -> None:\n",
    "        if isinstance(des, pd.DataFrame):\n",
    "            self.stations_info.append(self.df_2_StationHrDes(des, sno))\n",
    "        elif isinstance(des, StationHrDes):\n",
    "            self.stations_info.append(des)\n",
    "        else:\n",
    "            raise TypeError(\"wrong type of des, it should be either pd.DataFrame or StationHrDes.\")\n",
    "\n",
    "    def df_2_StationHrDes(self, df_station: pd.DataFrame, sno: Optional[int] = None) -> StationHrDes:\n",
    "        return StationHrDes(df_station, sno)\n",
    "\n",
    "    def update_LR_data(self) -> None:\n",
    "        holder = []\n",
    "        for info in self.stations_info:\n",
    "            holder.append(info.lr_des)\n",
    "        self.LR_data = pd.concat(holder).reset_index()\n",
    "\n",
    "\n",
    "def weekday_classification(LR_data: pd.DataFrame, weekday: str, n_cluster=5, return_model=False):\n",
    "    if set(['slope', 'intersect', 'weekday']) - set(LR_data.columns):\n",
    "        raise KeyError(\"'slope', 'intersect', 'weekday should be in LR_data.\")\n",
    "    sub = LR_data.query(\" weekday==@weekday \")\n",
    "    m = cluster.KMeans(n_cluster)\n",
    "    sub_std = sub[['slope', 'intersect']].apply(lambda x: (x - x.min()) / (x.max() - x.min()), axis=0)\n",
    "    labels = m.fit_predict(sub_std[['slope', 'intersect']].values)\n",
    "    ans: pd.Series = pd.Series(labels, index=sub['sno'])\n",
    "    if return_model:\n",
    "        return ans, m\n",
    "    return ans"
   ]
  },
  {
   "cell_type": "code",
   "execution_count": 52,
   "metadata": {},
   "outputs": [
    {
     "name": "stderr",
     "output_type": "stream",
     "text": [
      "100%|██████████| 1418/1418 [00:26<00:00, 52.83it/s]\n"
     ]
    }
   ],
   "source": [
    "stations = StationsLrHolder()\n",
    "iters = tqdm.tqdm(data_rentCnt.groupby('sno'), total=data_rentCnt['sno'].nunique())\n",
    "for k, g in iters:\n",
    "    stations.add_one_station(g, sno=k)   \n",
    "stations.update_LR_data()\n",
    "stations.LR_data.query(\" weekday=='Monday' \")"
   ]
  },
  {
   "cell_type": "code",
   "execution_count": null,
   "metadata": {},
   "outputs": [],
   "source": [
    "WEEKDAYS"
   ]
  },
  {
   "cell_type": "code",
   "execution_count": 65,
   "metadata": {},
   "outputs": [
    {
     "data": {
      "text/plain": [
       "sno\n",
       "1            4\n",
       "2            2\n",
       "4            0\n",
       "5            2\n",
       "6            3\n",
       "            ..\n",
       "500119086    0\n",
       "500119087    0\n",
       "500119088    0\n",
       "500119089    0\n",
       "500119090    3\n",
       "Length: 1410, dtype: int32"
      ]
     },
     "execution_count": 65,
     "metadata": {},
     "output_type": "execute_result"
    }
   ],
   "source": [
    "weekday_classification(stations.LR_data, weekday='Monday')\n"
   ]
  },
  {
   "cell_type": "code",
   "execution_count": 66,
   "metadata": {},
   "outputs": [
    {
     "data": {
      "text/html": [
       "<div>\n",
       "<style scoped>\n",
       "    .dataframe tbody tr th:only-of-type {\n",
       "        vertical-align: middle;\n",
       "    }\n",
       "\n",
       "    .dataframe tbody tr th {\n",
       "        vertical-align: top;\n",
       "    }\n",
       "\n",
       "    .dataframe thead th {\n",
       "        text-align: right;\n",
       "    }\n",
       "</style>\n",
       "<table border=\"1\" class=\"dataframe\">\n",
       "  <thead>\n",
       "    <tr style=\"text-align: right;\">\n",
       "      <th></th>\n",
       "      <th>weekday</th>\n",
       "      <th>slope</th>\n",
       "      <th>intersect</th>\n",
       "      <th>sno</th>\n",
       "    </tr>\n",
       "  </thead>\n",
       "  <tbody>\n",
       "    <tr>\n",
       "      <th>0</th>\n",
       "      <td>Monday</td>\n",
       "      <td>2.626304</td>\n",
       "      <td>1.985000</td>\n",
       "      <td>1</td>\n",
       "    </tr>\n",
       "    <tr>\n",
       "      <th>1</th>\n",
       "      <td>Tuesday</td>\n",
       "      <td>2.769565</td>\n",
       "      <td>1.358333</td>\n",
       "      <td>1</td>\n",
       "    </tr>\n",
       "    <tr>\n",
       "      <th>2</th>\n",
       "      <td>Wednesday</td>\n",
       "      <td>2.692174</td>\n",
       "      <td>2.248333</td>\n",
       "      <td>1</td>\n",
       "    </tr>\n",
       "    <tr>\n",
       "      <th>3</th>\n",
       "      <td>Thursday</td>\n",
       "      <td>2.520870</td>\n",
       "      <td>2.801667</td>\n",
       "      <td>1</td>\n",
       "    </tr>\n",
       "    <tr>\n",
       "      <th>4</th>\n",
       "      <td>Friday</td>\n",
       "      <td>2.768913</td>\n",
       "      <td>2.553333</td>\n",
       "      <td>1</td>\n",
       "    </tr>\n",
       "    <tr>\n",
       "      <th>...</th>\n",
       "      <td>...</td>\n",
       "      <td>...</td>\n",
       "      <td>...</td>\n",
       "      <td>...</td>\n",
       "    </tr>\n",
       "    <tr>\n",
       "      <th>9894</th>\n",
       "      <td>Wednesday</td>\n",
       "      <td>0.546522</td>\n",
       "      <td>-0.160000</td>\n",
       "      <td>500119090</td>\n",
       "    </tr>\n",
       "    <tr>\n",
       "      <th>9895</th>\n",
       "      <td>Thursday</td>\n",
       "      <td>0.489348</td>\n",
       "      <td>-0.148333</td>\n",
       "      <td>500119090</td>\n",
       "    </tr>\n",
       "    <tr>\n",
       "      <th>9896</th>\n",
       "      <td>Friday</td>\n",
       "      <td>0.425217</td>\n",
       "      <td>0.026667</td>\n",
       "      <td>500119090</td>\n",
       "    </tr>\n",
       "    <tr>\n",
       "      <th>9897</th>\n",
       "      <td>Saturday</td>\n",
       "      <td>0.293478</td>\n",
       "      <td>-0.208333</td>\n",
       "      <td>500119090</td>\n",
       "    </tr>\n",
       "    <tr>\n",
       "      <th>9898</th>\n",
       "      <td>Sunday</td>\n",
       "      <td>0.140000</td>\n",
       "      <td>0.223333</td>\n",
       "      <td>500119090</td>\n",
       "    </tr>\n",
       "  </tbody>\n",
       "</table>\n",
       "<p>9899 rows × 4 columns</p>\n",
       "</div>"
      ],
      "text/plain": [
       "        weekday     slope  intersect        sno\n",
       "0        Monday  2.626304   1.985000          1\n",
       "1       Tuesday  2.769565   1.358333          1\n",
       "2     Wednesday  2.692174   2.248333          1\n",
       "3      Thursday  2.520870   2.801667          1\n",
       "4        Friday  2.768913   2.553333          1\n",
       "...         ...       ...        ...        ...\n",
       "9894  Wednesday  0.546522  -0.160000  500119090\n",
       "9895   Thursday  0.489348  -0.148333  500119090\n",
       "9896     Friday  0.425217   0.026667  500119090\n",
       "9897   Saturday  0.293478  -0.208333  500119090\n",
       "9898     Sunday  0.140000   0.223333  500119090\n",
       "\n",
       "[9899 rows x 4 columns]"
      ]
     },
     "execution_count": 66,
     "metadata": {},
     "output_type": "execute_result"
    }
   ],
   "source": [
    "stations.LR_data"
   ]
  }
 ],
 "metadata": {
  "kernelspec": {
   "display_name": "Python 3.10.6 64-bit",
   "language": "python",
   "name": "python3"
  },
  "language_info": {
   "codemirror_mode": {
    "name": "ipython",
    "version": 3
   },
   "file_extension": ".py",
   "mimetype": "text/x-python",
   "name": "python",
   "nbconvert_exporter": "python",
   "pygments_lexer": "ipython3",
   "version": "3.10.6"
  },
  "orig_nbformat": 4,
  "vscode": {
   "interpreter": {
    "hash": "08513741cac9e13c961ce963662a922344f0bb9de256ea42f261b11afb9791d4"
   }
  }
 },
 "nbformat": 4,
 "nbformat_minor": 2
}
